{
 "cells": [
  {
   "cell_type": "code",
   "execution_count": 239,
   "metadata": {},
   "outputs": [
    {
     "data": {
      "text/plain": [
       "2"
      ]
     },
     "execution_count": 239,
     "metadata": {},
     "output_type": "execute_result"
    }
   ],
   "source": [
    "import random\n",
    "suits=['Spades','Hearts','diamonds','Clubs']\n",
    "values={'Two':2, 'Three':3, 'Four':4, 'Five':5, 'Six':6, 'Seven':7, 'Eight':8, \n",
    "            'Nine':9, 'Ten':10, 'Jack':10, 'Queen':10, 'King':10,'Ace':11}\n",
    "ranks=('Two', 'Three', 'Four', 'Five', 'Six', 'Seven', 'Eight', 'Nine', 'Ten', 'Jack', 'Queen', 'King', 'Ace')\n",
    "\n",
    "playing=True\n",
    "value['Two']"
   ]
  },
  {
   "cell_type": "code",
   "execution_count": 240,
   "metadata": {},
   "outputs": [],
   "source": [
    "class Card:\n",
    "    def __init__(self,name,ranks):\n",
    "        self.name=name\n",
    "        self.ranks=ranks\n",
    "        self.values=values[ranks]\n",
    "    \n",
    "    def __str__(self):\n",
    "        return(f'card is {self.name} and its value is {self.values}')\n",
    "        \n",
    "                \n"
   ]
  },
  {
   "cell_type": "code",
   "execution_count": 241,
   "metadata": {},
   "outputs": [],
   "source": [
    "        \n",
    "class Deck():\n",
    "    def __init__(self):\n",
    "        self.all_cards=[]\n",
    "        for suit in suits:\n",
    "            for rank in ranks:\n",
    "                self.all_cards.append(Card(suit,rank))\n",
    "    \n",
    "    def __str__(self):\n",
    "        deck_comp=''\n",
    "        for card in self.all_cards:\n",
    "            deck_comp+='\\n'+card.__str__()\n",
    "        return deck_comp\n",
    "        \n",
    "    def shuffle(self):\n",
    "        random.shuffle(self.all_cards)\n",
    "        \n",
    "    def deal(self):\n",
    "        single_card = self.all_cards.pop()\n",
    "        return single_card\n"
   ]
  },
  {
   "cell_type": "code",
   "execution_count": 242,
   "metadata": {},
   "outputs": [],
   "source": [
    "class Hand():\n",
    "    def __init__(self):\n",
    "        self.cards=[]\n",
    "        self.values=0\n",
    "        self.aces=0\n",
    "        \n",
    "    def add_card(self,card):\n",
    "        #card poped from deal of Deck class , since Deck has class obj ,its rank can be found\n",
    "        self.cards.append(card)\n",
    "        self.values+=values[card.ranks]\n",
    "        if card.ranks=='Ace':\n",
    "            self.aces+=1\n",
    "        \n",
    "            \n",
    "    def adjust_ace(self):\n",
    "        \n",
    "        while self.values>21  and self.aces:\n",
    "            self.values-=10\n",
    "            self.aces-=1\n",
    "              \n",
    "            "
   ]
  },
  {
   "cell_type": "code",
   "execution_count": 243,
   "metadata": {},
   "outputs": [],
   "source": [
    "class Chips():\n",
    "    def __init__(self):\n",
    "        self.total=100\n",
    "        self.bet=0\n",
    "        \n",
    "    def win_bet(self):\n",
    "        self.total+=self.bet\n",
    "    \n",
    "    def loose_bet(self):\n",
    "        self.total-=self.bet"
   ]
  },
  {
   "cell_type": "code",
   "execution_count": 244,
   "metadata": {},
   "outputs": [],
   "source": [
    "def take_bet(chips):\n",
    "    \n",
    "    while True:\n",
    "        try:\n",
    "            chips.bet=int(input('enetr the amount you want to be bet'))\n",
    "            \n",
    "        except:\n",
    "            print('Please enter integer')\n",
    "        \n",
    "        else:\n",
    "            if chips.bet>chips.total:\n",
    "                print('you dont have enough money to be ,you have' ,chips.total)\n",
    "            else:\n",
    "                break"
   ]
  },
  {
   "cell_type": "code",
   "execution_count": 245,
   "metadata": {},
   "outputs": [],
   "source": [
    "def hit(deck,hand):\n",
    "    poped_card=deck.deal()\n",
    "    hand.add_card(poped_card)\n",
    "    hand.adjust_ace()"
   ]
  },
  {
   "cell_type": "code",
   "execution_count": 246,
   "metadata": {},
   "outputs": [],
   "source": [
    "def hit_stand(deck,hand):\n",
    "    global playing\n",
    "    \n",
    "    while True:\n",
    "        x=input('hit or miss,enter h or s')\n",
    "        if x[0].lower()=='h':\n",
    "            hit(deck,hand)\n",
    "        elif x[0].lower()=='s':\n",
    "            print(\"player wants to stand, Its dealer's turn\")\n",
    "            playing=False\n",
    "        else:\n",
    "            print('Sorry, didnt understand,try once more')\n",
    "            continue\n",
    "        break"
   ]
  },
  {
   "cell_type": "code",
   "execution_count": 247,
   "metadata": {},
   "outputs": [],
   "source": [
    "def show_sum(player,dealer):\n",
    "    #show one of the dealer cards\n",
    "    print('\\n Dealer card :')\n",
    "    print('First card is hidden')\n",
    "    print(dealer.cards[1])#showing second card .\n",
    "    \n",
    "    #show all of players cards\n",
    "    print('\\n this is players card')\n",
    "    for card in player.cards:\n",
    "        print(card)\n",
    "        \n",
    "def show_all(player,dealer):   \n",
    "    \n",
    "    #show all dealers cards\n",
    "    print('\\n this is Delears card')\n",
    "    for card in dealer.cards:\n",
    "        print(card)\n",
    "        \n",
    "    #display which cards and its sum\n",
    "    print(f'sum of delear cards is {dealer.values}' )\n",
    "    \n",
    "    \n",
    "    #show all players cards\n",
    "    print('\\n this is players card')\n",
    "    for card in player.cards:\n",
    "        print(card)  \n",
    "    print(f'sum of players cards is {player.values}' )\n",
    "        "
   ]
  },
  {
   "cell_type": "code",
   "execution_count": 248,
   "metadata": {},
   "outputs": [],
   "source": [
    "def player_busts(player,dealer,chips):\n",
    "    print('PLAYER BUSTS!!!')\n",
    "    chips.loose_bet()\n",
    "\n",
    "\n",
    "def dealer_busts(player,dealer,chips):\n",
    "    print('dealer BUSTS!!!')\n",
    "    chips.loose_bet()\n",
    "\n",
    "\n",
    "def player_wins(player,dealer,chips):\n",
    "    print('PLAYER WINS!!!')\n",
    "    chips.win_bet()\n",
    "\n",
    "\n",
    "def dealer_wins(player,dealer,chips):\n",
    "    print('Dealer WINS!!!')\n",
    "    chips.win_bet()\n",
    "\n",
    "    \n",
    "def push(player,dealer):\n",
    "    print('both 21 so push')"
   ]
  },
  {
   "cell_type": "code",
   "execution_count": 249,
   "metadata": {},
   "outputs": [
    {
     "name": "stdout",
     "output_type": "stream",
     "text": [
      "Welcome\n",
      "enetr the amount you want to be bet50\n",
      "\n",
      " Dealer card :\n",
      "First card is hidden\n",
      "card is diamonds and its value is 8\n",
      "\n",
      " this is players card\n",
      "card is Clubs and its value is 2\n",
      "card is Hearts and its value is 10\n",
      "hit or miss,enter h or sh\n",
      "\n",
      " Dealer card :\n",
      "First card is hidden\n",
      "card is diamonds and its value is 8\n",
      "\n",
      " this is players card\n",
      "card is Clubs and its value is 2\n",
      "card is Hearts and its value is 10\n",
      "card is Clubs and its value is 3\n",
      "hit or miss,enter h or sh\n",
      "\n",
      " Dealer card :\n",
      "First card is hidden\n",
      "card is diamonds and its value is 8\n",
      "\n",
      " this is players card\n",
      "card is Clubs and its value is 2\n",
      "card is Hearts and its value is 10\n",
      "card is Clubs and its value is 3\n",
      "card is Hearts and its value is 10\n",
      "PLAYER BUSTS!!!\n"
     ]
    }
   ],
   "source": [
    "while True:\n",
    "    print('Welcome')\n",
    "    \n",
    "    #create and shuffle the deck and dela onw card to each player\n",
    "    deck=Deck()\n",
    "    #deck.create_deck()\n",
    "    deck.shuffle()\n",
    "    \n",
    "    player_hand=Hand()\n",
    "    player_hand.add_card(deck.deal())\n",
    "    player_hand.add_card(deck.deal())\n",
    "   \n",
    "    dealer_hand=Hand()\n",
    "    dealer_hand.add_card(deck.deal())\n",
    "    dealer_hand.add_card(deck.deal())\n",
    "    \n",
    "    \n",
    "    #set up players chip\n",
    "    player_chips=Chips()\n",
    "    #check for bet amt placed\n",
    "    take_bet(player_chips)\n",
    "    \n",
    "    show_sum(player_hand,dealer_hand)\n",
    "    \n",
    "    while playing:\n",
    "        \n",
    "        hit_stand(deck,player_hand)\n",
    "        show_sum(player_hand,dealer_hand)\n",
    "        \n",
    "        if player_hand.values>21:\n",
    "            player_busts(player_hand,dealer_hand,player_chips)\n",
    "            \n",
    "            break\n",
    "    if player_hand.values<=21  :\n",
    "        \n",
    "        while dealer_hand.values<17:\n",
    "            hit(deck,player_hand)\n",
    "            \n",
    "        show_all(player_hand,dealer_hand)    \n",
    "        \n",
    "        if dealer_hand.values>21:\n",
    "            dealer_busts(player_hand,dealer_hand,player_chips)\n",
    "        \n",
    "        elif dealer_hand.values>player_hand.values:\n",
    "            dealer_wins(player_hand,dealer_hand,player_chips)\n",
    "        \n",
    "        elif dealer_hand.values<player_hand.values:\n",
    "            player_wins(player_hand,dealer_hand,player_chips)\n",
    "        else:\n",
    "            push(dealer_hand,player_hand)\n",
    "            \n",
    "        print(' players winning stand at ', player_chips.total)    \n",
    "        \n",
    "    break   "
   ]
  },
  {
   "cell_type": "code",
   "execution_count": 250,
   "metadata": {},
   "outputs": [],
   "source": [
    "global playing"
   ]
  },
  {
   "cell_type": "code",
   "execution_count": null,
   "metadata": {},
   "outputs": [],
   "source": []
  },
  {
   "cell_type": "code",
   "execution_count": null,
   "metadata": {},
   "outputs": [],
   "source": []
  }
 ],
 "metadata": {
  "kernelspec": {
   "display_name": "Python 3",
   "language": "python",
   "name": "python3"
  },
  "language_info": {
   "codemirror_mode": {
    "name": "ipython",
    "version": 3
   },
   "file_extension": ".py",
   "mimetype": "text/x-python",
   "name": "python",
   "nbconvert_exporter": "python",
   "pygments_lexer": "ipython3",
   "version": "3.7.6"
  }
 },
 "nbformat": 4,
 "nbformat_minor": 4
}
