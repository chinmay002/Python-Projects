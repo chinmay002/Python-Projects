{
 "cells": [
  {
   "cell_type": "code",
   "execution_count": 12,
   "metadata": {},
   "outputs": [
    {
     "name": "stdout",
     "output_type": "stream",
     "text": [
      "Player 1 choose between 'r','p','s' r\n",
      "Player wins, computer was s\n"
     ]
    }
   ],
   "source": [
    "\"\"\"\n",
    " rock > scissors\n",
    "2>scissors>paper\n",
    "3>paper>rock\n",
    "\"\"\"\n",
    "\n",
    "\n",
    "import random\n",
    "\n",
    "\n",
    "def win(player,comp):\n",
    "    if (player=='r' and comp=='s') or (player=='s' and comp=='p') or (player=='p' and comp=='r'):\n",
    "        return True\n",
    "\n",
    "p=input(\"Player 1 choose between 'r','p','s' \")\n",
    "computer=random.choice(['r','p','s'])\n",
    "if p==computer:\n",
    "    print('tie')\n",
    "elif win(p,computer):\n",
    "    print(f'Player wins, computer was {computer}')\n",
    "else:\n",
    "    print(f'computer wins computer was {computer}')\n"
   ]
  },
  {
   "cell_type": "code",
   "execution_count": 5,
   "metadata": {},
   "outputs": [
    {
     "data": {
      "text/plain": [
       "85"
      ]
     },
     "execution_count": 5,
     "metadata": {},
     "output_type": "execute_result"
    }
   ],
   "source": [
    "#hangman\n",
    "words=[\"aback\",\"abaft\",\"abandoned\",\"abashed\",\"aberrant\",\"abhorrent\",\"abiding\",\"abject\",\"ablaze\",\"able\",\"abnormal\",\"aboard\",\"aboriginal\",\"abortive\",\"abounding\",\"abrasive\",\"abrupt\",\"absent\",\"absorbed\",\"absorbing\",\"abstracted\",\"absurd\",\"abundant\",\"abusive\",\"accept\",\"acceptable\",\"accessible\",\"accidental\",\"account\",\"accurate\",\"achiever\",\"acid\",\"acidic\",\"acoustic\",\"acoustics\",\"acrid\",\"act\",\"action\",\"activity\",\"actor\",\"actually\",\n",
    "      \"bump\",\"bumpy\",\"burly\",\"burn\",\"burst\",\"bury\",\"bushes\",\"business\",\"bustling\",\"busy\",\"butter\",\"button\",\"buzz\",\"cabbage\",\"cable\",\"cactus\",\"cagey\",\"cake\",\"cakes\",\"calculate\",\"calculating\"\n",
    "      ,\"jobless\",\"jog\",\"join\",\"joke\",\"jolly\",\"joyous\",\"judge\",\"judicious\",\"juggle\",\"juice\",\"juicy\",\"jumbled\",\"jump\",\"jumpy\",\"juvenile\",\"kaput\",\"keen\",\"kettle\",\"key\",\"kick\",\"kill\",\"kind\",\"kindhearted\",]\n",
    "len(words)"
   ]
  },
  {
   "cell_type": "code",
   "execution_count": null,
   "metadata": {},
   "outputs": [],
   "source": []
  },
  {
   "cell_type": "code",
   "execution_count": 7,
   "metadata": {},
   "outputs": [
    {
     "name": "stdout",
     "output_type": "stream",
     "text": [
      "You have 7 lives left and you have used these letters:  \n",
      "Current word:  - - - - - - - - - -\n",
      "Guess a letter: A\n",
      "\n",
      "You have 7 lives left and you have used these letters:  A\n",
      "Current word:  A - - - - - - - A -\n",
      "Guess a letter: s\n",
      "\n",
      "Your letter, S is not in the word.\n",
      "You have 6 lives left and you have used these letters:  A S\n",
      "Current word:  A - - - - - - - A -\n",
      "Guess a letter: f\n",
      "\n",
      "Your letter, F is not in the word.\n",
      "You have 5 lives left and you have used these letters:  A S F\n",
      "Current word:  A - - - - - - - A -\n",
      "Guess a letter: e\n",
      "\n",
      "You have 5 lives left and you have used these letters:  E A S F\n",
      "Current word:  A - - - - E - - A -\n",
      "Guess a letter: q\n",
      "\n",
      "Your letter, Q is not in the word.\n",
      "You have 4 lives left and you have used these letters:  A S Q F E\n",
      "Current word:  A - - - - E - - A -\n",
      "Guess a letter: e\n",
      "\n",
      "You have already used that letter. Guess another letter.\n",
      "You have 4 lives left and you have used these letters:  A S Q F E\n",
      "Current word:  A - - - - E - - A -\n",
      "Guess a letter: t\n",
      "\n",
      "You have 4 lives left and you have used these letters:  A S Q F E T\n",
      "Current word:  A - - - - E - T A -\n",
      "Guess a letter: ui\n",
      "\n",
      "That is not a valid letter.\n",
      "You have 4 lives left and you have used these letters:  A S Q F E T\n",
      "Current word:  A - - - - E - T A -\n",
      "Guess a letter: v\n",
      "\n",
      "Your letter, V is not in the word.\n",
      "You have 3 lives left and you have used these letters:  A S V Q F E T\n",
      "Current word:  A - - - - E - T A -\n",
      "Guess a letter: s\n",
      "\n",
      "You have already used that letter. Guess another letter.\n",
      "You have 3 lives left and you have used these letters:  A S V Q F E T\n",
      "Current word:  A - - - - E - T A -\n",
      "Guess a letter: c\n",
      "\n",
      "You have 3 lives left and you have used these letters:  A C S V Q F E T\n",
      "Current word:  A C C - - E - T A -\n",
      "Guess a letter: g\n",
      "\n",
      "Your letter, G is not in the word.\n",
      "You have 2 lives left and you have used these letters:  A C S V Q F E T G\n",
      "Current word:  A C C - - E - T A -\n",
      "Guess a letter: r\n",
      "\n",
      "Your letter, R is not in the word.\n",
      "You have 1 lives left and you have used these letters:  A C S V Q F E T R G\n",
      "Current word:  A C C - - E - T A -\n",
      "Guess a letter: i\n",
      "\n",
      "You have 1 lives left and you have used these letters:  A C S I V Q F E T R G\n",
      "Current word:  A C C I - E - T A -\n",
      "Guess a letter: \n",
      "\n",
      "That is not a valid letter.\n",
      "You have 1 lives left and you have used these letters:  A C S I V Q F E T R G\n",
      "Current word:  A C C I - E - T A -\n",
      "Guess a letter: da\n",
      "\n",
      "That is not a valid letter.\n",
      "You have 1 lives left and you have used these letters:  A C S I V Q F E T R G\n",
      "Current word:  A C C I - E - T A -\n",
      "Guess a letter: \n",
      "\n",
      "That is not a valid letter.\n",
      "You have 1 lives left and you have used these letters:  A C S I V Q F E T R G\n",
      "Current word:  A C C I - E - T A -\n",
      "Guess a letter: d\n",
      "\n",
      "You have 1 lives left and you have used these letters:  A C S D I V Q F E T R G\n",
      "Current word:  A C C I D E - T A -\n",
      "Guess a letter: a\n",
      "\n",
      "You have already used that letter. Guess another letter.\n",
      "You have 1 lives left and you have used these letters:  A C S D I V Q F E T R G\n",
      "Current word:  A C C I D E - T A -\n",
      "Guess a letter: q\n",
      "\n",
      "You have already used that letter. Guess another letter.\n",
      "You have 1 lives left and you have used these letters:  A C S D I V Q F E T R G\n",
      "Current word:  A C C I D E - T A -\n",
      "Guess a letter: w\n",
      "\n",
      "Your letter, W is not in the word.\n",
      "You died, sorry. The word was ACCIDENTAL\n"
     ]
    }
   ],
   "source": [
    "import random\n",
    "\n",
    "#from hangman_visual import lives_visual_dict\n",
    "import string\n",
    "\n",
    "\n",
    "def get_valid_word(words):\n",
    "    word = random.choice(words)  # randomly chooses something from the list\n",
    "    while '-' in word or ' ' in word:\n",
    "        word = random.choice(words)\n",
    "\n",
    "    return word.upper()\n",
    "\n",
    "\n",
    "def hangman():\n",
    "    #word='abashed'\n",
    "    word = get_valid_word(words)\n",
    "    word_letters = set(word)  # letters in the word\n",
    "    alphabet = set(string.ascii_uppercase)\n",
    "    used_letters = set()  # what the user has guessed\n",
    "\n",
    "    lives = 7\n",
    "\n",
    "    # getting user input\n",
    "    while len(word_letters) > 0 and lives > 0:\n",
    "        \n",
    "        print('You have', lives, 'lives left and you have used these letters: ', ' '.join(used_letters))\n",
    "\n",
    "        word_list = [letter if letter in used_letters else '-' for letter in word]\n",
    "        print('Current word: ', ' '.join(word_list))\n",
    "\n",
    "        user_letter = input('Guess a letter: ').upper()\n",
    "        if user_letter in alphabet - used_letters: # \n",
    "            used_letters.add(user_letter)\n",
    "            if user_letter in word_letters:\n",
    "                word_letters.remove(user_letter)\n",
    "                print('')\n",
    "\n",
    "            else:\n",
    "                lives = lives - 1  # takes away a life if wrong\n",
    "                print('\\nYour letter,', user_letter, 'is not in the word.')\n",
    "\n",
    "        elif user_letter in used_letters:\n",
    "            print('\\nYou have already used that letter. Guess another letter.')\n",
    "\n",
    "        else:\n",
    "            print('\\nThat is not a valid letter.')\n",
    "\n",
    "    # gets here when len(word_letters) == 0 OR when lives == 0\n",
    "    if lives == 0:\n",
    "        #print(lives_visual_dict[lives])\n",
    "        print('You died, sorry. The word was', word)\n",
    "    else:\n",
    "        print('YAY! You guessed the word', word, '!!')\n",
    "\n",
    "\n",
    "if __name__ == '__main__':\n",
    "    hangman()"
   ]
  },
  {
   "cell_type": "code",
   "execution_count": null,
   "metadata": {},
   "outputs": [],
   "source": []
  },
  {
   "cell_type": "code",
   "execution_count": 19,
   "metadata": {},
   "outputs": [
    {
     "data": {
      "text/plain": [
       "{'e', 'k', 'y'}"
      ]
     },
     "execution_count": 19,
     "metadata": {},
     "output_type": "execute_result"
    }
   ],
   "source": [
    "word_letters"
   ]
  }
 ],
 "metadata": {
  "kernelspec": {
   "display_name": "Python 3",
   "language": "python",
   "name": "python3"
  },
  "language_info": {
   "codemirror_mode": {
    "name": "ipython",
    "version": 3
   },
   "file_extension": ".py",
   "mimetype": "text/x-python",
   "name": "python",
   "nbconvert_exporter": "python",
   "pygments_lexer": "ipython3",
   "version": "3.7.6"
  }
 },
 "nbformat": 4,
 "nbformat_minor": 4
}
