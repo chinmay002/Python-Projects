{
 "cells": [
  {
   "cell_type": "code",
   "execution_count": 16,
   "metadata": {},
   "outputs": [
    {
     "name": "stdout",
     "output_type": "stream",
     "text": [
      "Welcome to Game of Guessing!!!!\n",
      "GUESS THE NUMBER BETWEEN 1 TO 20 10\n",
      "Hint: too large \n",
      "GUESS THE NUMBER BETWEEN 1 TO 20 6\n",
      "Hint: too large \n",
      "GUESS THE NUMBER BETWEEN 1 TO 20 4\n",
      "Yay!!! you guessed correct\n"
     ]
    }
   ],
   "source": [
    "import random\n",
    "\n",
    "print('Welcome to Game of Guessing!!!!')\n",
    "\n",
    "def guess(x):\n",
    "    rnd=random.randint(1,x)\n",
    "    guess=0\n",
    "    while guess!=rnd:\n",
    "        \n",
    "        guess=int(input(f'GUESS THE NUMBER BETWEEN 1 TO {x} '))\n",
    "    \n",
    "        if guess > rnd :\n",
    "            print('Hint: too large ')\n",
    "        elif guess< rnd:\n",
    "            print('Guess again!!: too low')\n",
    "        \n",
    "    print('Yay!!! you guessed correct')\n",
    "            \n",
    "\n",
    "guess(20)            "
   ]
  },
  {
   "cell_type": "code",
   "execution_count": 1,
   "metadata": {},
   "outputs": [
    {
     "name": "stdout",
     "output_type": "stream",
     "text": [
      "is 1 too high (h) or to low (l) or correct (c),feedback please1\n",
      "is 1 too high (h) or to low (l) or correct (c),feedback please1\n",
      "is 1 too high (h) or to low (l) or correct (c),feedback pleasec\n",
      "computer has correctly gussed number 1\n"
     ]
    }
   ],
   "source": [
    "def computer_guess(x):\n",
    "    low=1\n",
    "    high=x\n",
    "    feedback=''\n",
    "    while feedback!='c':\n",
    "        \n",
    "        if low!=high:\n",
    "            guess=random.randint(low,high)\n",
    "        else:\n",
    "            guess=low\n",
    "          \n",
    "        \n",
    "        feedback=input(f'is {guess} too high (h) or to low (l) or correct (c),feedback please').lower()\n",
    "        if feedback=='h':\n",
    "            high=guess-1\n",
    "        elif feedback =='l':\n",
    "            low=guess+1\n",
    "    print(f'computer has correctly gussed number {guess}')        \n",
    "computer_guess(1)        "
   ]
  },
  {
   "cell_type": "code",
   "execution_count": null,
   "metadata": {},
   "outputs": [],
   "source": []
  }
 ],
 "metadata": {
  "kernelspec": {
   "display_name": "Python 3",
   "language": "python",
   "name": "python3"
  },
  "language_info": {
   "codemirror_mode": {
    "name": "ipython",
    "version": 3
   },
   "file_extension": ".py",
   "mimetype": "text/x-python",
   "name": "python",
   "nbconvert_exporter": "python",
   "pygments_lexer": "ipython3",
   "version": "3.7.6"
  }
 },
 "nbformat": 4,
 "nbformat_minor": 4
}
